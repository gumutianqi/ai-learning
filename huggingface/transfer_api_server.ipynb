{
 "cells": [
  {
   "cell_type": "code",
   "execution_count": 1,
   "metadata": {},
   "outputs": [
    {
     "ename": "ModuleNotFoundError",
     "evalue": "No module named 'single_sentence_transfer'",
     "output_type": "error",
     "traceback": [
      "\u001b[0;31m---------------------------------------------------------------------------\u001b[0m",
      "\u001b[0;31mModuleNotFoundError\u001b[0m                       Traceback (most recent call last)",
      "Cell \u001b[0;32mIn[1], line 5\u001b[0m\n\u001b[1;32m      2\u001b[0m \u001b[39mfrom\u001b[39;00m \u001b[39mflask\u001b[39;00m \u001b[39mimport\u001b[39;00m Flask\n\u001b[1;32m      3\u001b[0m \u001b[39mfrom\u001b[39;00m \u001b[39mflask\u001b[39;00m \u001b[39mimport\u001b[39;00m request, jsonify\n\u001b[0;32m----> 5\u001b[0m \u001b[39mfrom\u001b[39;00m \u001b[39msingle_sentence_transfer\u001b[39;00m \u001b[39mimport\u001b[39;00m paragraph_transfer\n\u001b[1;32m      8\u001b[0m app \u001b[39m=\u001b[39m Flask(\u001b[39m__name__\u001b[39m)\n\u001b[1;32m      9\u001b[0m app\u001b[39m.\u001b[39mconfig[\u001b[39m\"\u001b[39m\u001b[39mJSON_AS_ASCII\u001b[39m\u001b[39m\"\u001b[39m] \u001b[39m=\u001b[39m \u001b[39mFalse\u001b[39;00m\n",
      "\u001b[0;31mModuleNotFoundError\u001b[0m: No module named 'single_sentence_transfer'"
     ]
    }
   ],
   "source": [
    "# -*- coding: utf-8 -*-\n",
    "from flask import Flask\n",
    "from flask import request, jsonify\n",
    "\n",
    "from single_sentence_transfer import paragraph_transfer\n",
    "\n",
    "\n",
    "app = Flask(__name__)\n",
    "app.config[\"JSON_AS_ASCII\"] = False\n",
    "\n",
    "\n",
    "@app.route(\"/transfer\", methods=['GET',  'POST'])\n",
    "def get_news():\n",
    "    doc = [_+\"。\" for _ in request.get_json()[\"text\"].split(\"。\") if _]\n",
    "    new_doc = paragraph_transfer(doc)\n",
    "    return_result = {\"doc\": doc, \"transfer doc\": new_doc}\n",
    "    return jsonify(return_result)\n",
    "\n",
    "\n",
    "if __name__ == '__main__':\n",
    "    app.run(host=\"0.0.0.0\", port=5000, debug=True)\n"
   ]
  }
 ],
 "metadata": {
  "kernelspec": {
   "display_name": "Python 3",
   "language": "python",
   "name": "python3"
  },
  "language_info": {
   "codemirror_mode": {
    "name": "ipython",
    "version": 3
   },
   "file_extension": ".py",
   "mimetype": "text/x-python",
   "name": "python",
   "nbconvert_exporter": "python",
   "pygments_lexer": "ipython3",
   "version": "3.11.3"
  },
  "orig_nbformat": 4
 },
 "nbformat": 4,
 "nbformat_minor": 2
}
