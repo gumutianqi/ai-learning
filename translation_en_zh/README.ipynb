{
 "cells": [
  {
   "cell_type": "code",
   "execution_count": 3,
   "metadata": {
    "vscode": {
     "languageId": "shellscript"
    }
   },
   "outputs": [],
   "source": [
    "## 按照以下以下工具\n",
    "!pip install -r ./src/requirements.txt -q"
   ]
  },
  {
   "cell_type": "code",
   "execution_count": 5,
   "metadata": {
    "vscode": {
     "languageId": "shellscript"
    }
   },
   "outputs": [
    {
     "name": "stdout",
     "output_type": "stream",
     "text": [
      "[2023-04-24 16:55:32 +0800] [90282] [INFO] Starting gunicorn 20.1.0\n",
      "[2023-04-24 16:55:32 +0800] [90282] [INFO] Listening at: http://0.0.0.0:8080 (90282)\n",
      "[2023-04-24 16:55:32 +0800] [90282] [INFO] Using worker: gevent\n",
      "[2023-04-24 16:55:32 +0800] [90283] [INFO] Booting worker with pid: 90283\n",
      "[2023-04-24 16:55:32 +0800] [90284] [INFO] Booting worker with pid: 90284\n",
      "[2023-04-24 16:55:32 +0800] [90283] [ERROR] Exception in worker process\n",
      "Traceback (most recent call last):\n",
      "  File \"/opt/homebrew/lib/python3.11/site-packages/gunicorn/arbiter.py\", line 589, in spawn_worker\n",
      "    worker.init_process()\n",
      "  File \"/opt/homebrew/lib/python3.11/site-packages/gunicorn/workers/ggevent.py\", line 146, in init_process\n",
      "    super().init_process()\n",
      "  File \"/opt/homebrew/lib/python3.11/site-packages/gunicorn/workers/base.py\", line 134, in init_process\n",
      "    self.load_wsgi()\n",
      "  File \"/opt/homebrew/lib/python3.11/site-packages/gunicorn/workers/base.py\", line 146, in load_wsgi\n",
      "    self.wsgi = self.app.wsgi()\n",
      "                ^^^^^^^^^^^^^^^\n",
      "  File \"/opt/homebrew/lib/python3.11/site-packages/gunicorn/app/base.py\", line 67, in wsgi\n",
      "    self.callable = self.load()\n",
      "                    ^^^^^^^^^^^\n",
      "  File \"/opt/homebrew/lib/python3.11/site-packages/gunicorn/app/wsgiapp.py\", line 58, in load\n",
      "    return self.load_wsgiapp()\n",
      "           ^^^^^^^^^^^^^^^^^^^\n",
      "  File \"/opt/homebrew/lib/python3.11/site-packages/gunicorn/app/wsgiapp.py\", line 48, in load_wsgiapp\n",
      "    return util.import_app(self.app_uri)\n",
      "           ^^^^^^^^^^^^^^^^^^^^^^^^^^^^^\n",
      "  File \"/opt/homebrew/lib/python3.11/site-packages/gunicorn/util.py\", line 359, in import_app\n",
      "    mod = importlib.import_module(module)\n",
      "          ^^^^^^^^^^^^^^^^^^^^^^^^^^^^^^^\n",
      "  File \"/opt/homebrew/Cellar/python@3.11/3.11.3/Frameworks/Python.framework/Versions/3.11/lib/python3.11/importlib/__init__.py\", line 121, in import_module\n",
      "    raise TypeError(msg.format(name))\n",
      "TypeError: the 'package' argument is required to perform a relative import for './src/start'\n",
      "[2023-04-24 16:55:32 +0800] [90283] [INFO] Worker exiting (pid: 90283)\n",
      "[2023-04-24 16:55:32 +0800] [90284] [ERROR] Exception in worker process\n",
      "Traceback (most recent call last):\n",
      "  File \"/opt/homebrew/lib/python3.11/site-packages/gunicorn/arbiter.py\", line 589, in spawn_worker\n",
      "    worker.init_process()\n",
      "  File \"/opt/homebrew/lib/python3.11/site-packages/gunicorn/workers/ggevent.py\", line 146, in init_process\n",
      "    super().init_process()\n",
      "  File \"/opt/homebrew/lib/python3.11/site-packages/gunicorn/workers/base.py\", line 134, in init_process\n",
      "    self.load_wsgi()\n",
      "  File \"/opt/homebrew/lib/python3.11/site-packages/gunicorn/workers/base.py\", line 146, in load_wsgi\n",
      "    self.wsgi = self.app.wsgi()\n",
      "                ^^^^^^^^^^^^^^^\n",
      "  File \"/opt/homebrew/lib/python3.11/site-packages/gunicorn/app/base.py\", line 67, in wsgi\n",
      "    self.callable = self.load()\n",
      "                    ^^^^^^^^^^^\n",
      "  File \"/opt/homebrew/lib/python3.11/site-packages/gunicorn/app/wsgiapp.py\", line 58, in load\n",
      "    return self.load_wsgiapp()\n",
      "           ^^^^^^^^^^^^^^^^^^^\n",
      "  File \"/opt/homebrew/lib/python3.11/site-packages/gunicorn/app/wsgiapp.py\", line 48, in load_wsgiapp\n",
      "    return util.import_app(self.app_uri)\n",
      "           ^^^^^^^^^^^^^^^^^^^^^^^^^^^^^\n",
      "  File \"/opt/homebrew/lib/python3.11/site-packages/gunicorn/util.py\", line 359, in import_app\n",
      "    mod = importlib.import_module(module)\n",
      "          ^^^^^^^^^^^^^^^^^^^^^^^^^^^^^^^\n",
      "  File \"/opt/homebrew/Cellar/python@3.11/3.11.3/Frameworks/Python.framework/Versions/3.11/lib/python3.11/importlib/__init__.py\", line 121, in import_module\n",
      "    raise TypeError(msg.format(name))\n",
      "TypeError: the 'package' argument is required to perform a relative import for './src/start'\n",
      "[2023-04-24 16:55:32 +0800] [90284] [INFO] Worker exiting (pid: 90284)\n",
      "Traceback (most recent call last):\n",
      "  File \"/opt/homebrew/lib/python3.11/site-packages/gunicorn/arbiter.py\", line 202, in run\n",
      "    self.manage_workers()\n",
      "  File \"/opt/homebrew/lib/python3.11/site-packages/gunicorn/arbiter.py\", line 551, in manage_workers\n",
      "    self.spawn_workers()\n",
      "  File \"/opt/homebrew/lib/python3.11/site-packages/gunicorn/arbiter.py\", line 623, in spawn_workers\n",
      "    time.sleep(0.1 * random.random())\n",
      "  File \"/opt/homebrew/lib/python3.11/site-packages/gunicorn/arbiter.py\", line 242, in handle_chld\n",
      "    self.reap_workers()\n",
      "  File \"/opt/homebrew/lib/python3.11/site-packages/gunicorn/arbiter.py\", line 525, in reap_workers\n",
      "    raise HaltServer(reason, self.WORKER_BOOT_ERROR)\n",
      "gunicorn.errors.HaltServer: <HaltServer 'Worker failed to boot.' 3>\n",
      "\n",
      "During handling of the above exception, another exception occurred:\n",
      "\n",
      "Traceback (most recent call last):\n",
      "  File \"/opt/homebrew/bin/gunicorn\", line 8, in <module>\n",
      "    sys.exit(run())\n",
      "             ^^^^^\n",
      "  File \"/opt/homebrew/lib/python3.11/site-packages/gunicorn/app/wsgiapp.py\", line 67, in run\n",
      "    WSGIApplication(\"%(prog)s [OPTIONS] [APP_MODULE]\").run()\n",
      "  File \"/opt/homebrew/lib/python3.11/site-packages/gunicorn/app/base.py\", line 231, in run\n",
      "    super().run()\n",
      "  File \"/opt/homebrew/lib/python3.11/site-packages/gunicorn/app/base.py\", line 72, in run\n",
      "    Arbiter(self).run()\n",
      "  File \"/opt/homebrew/lib/python3.11/site-packages/gunicorn/arbiter.py\", line 229, in run\n",
      "    self.halt(reason=inst.reason, exit_status=inst.exit_status)\n",
      "  File \"/opt/homebrew/lib/python3.11/site-packages/gunicorn/arbiter.py\", line 342, in halt\n",
      "    self.stop()\n",
      "  File \"/opt/homebrew/lib/python3.11/site-packages/gunicorn/arbiter.py\", line 393, in stop\n",
      "    time.sleep(0.1)\n",
      "  File \"/opt/homebrew/lib/python3.11/site-packages/gunicorn/arbiter.py\", line 242, in handle_chld\n",
      "    self.reap_workers()\n",
      "  File \"/opt/homebrew/lib/python3.11/site-packages/gunicorn/arbiter.py\", line 525, in reap_workers\n",
      "    raise HaltServer(reason, self.WORKER_BOOT_ERROR)\n",
      "gunicorn.errors.HaltServer: <HaltServer 'Worker failed to boot.' 3>\n"
     ]
    }
   ],
   "source": [
    "## 启动 App\n",
    "!gunicorn start:app -c gunicorn.conf.py\n"
   ]
  }
 ],
 "metadata": {
  "kernelspec": {
   "display_name": "Python 3",
   "language": "python",
   "name": "python3"
  },
  "language_info": {
   "codemirror_mode": {
    "name": "ipython",
    "version": 3
   },
   "file_extension": ".py",
   "mimetype": "text/x-python",
   "name": "python",
   "nbconvert_exporter": "python",
   "pygments_lexer": "ipython3",
   "version": "3.11.3"
  },
  "orig_nbformat": 4
 },
 "nbformat": 4,
 "nbformat_minor": 2
}
