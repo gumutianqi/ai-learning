{
 "cells": [
  {
   "attachments": {},
   "cell_type": "markdown",
   "metadata": {},
   "source": [
    "## "
   ]
  },
  {
   "cell_type": "code",
   "execution_count": 10,
   "metadata": {},
   "outputs": [
    {
     "ename": "AssertionError",
     "evalue": "parameter: src must be one of dict_keys(['huggingface', 'models', 'spaces'])",
     "output_type": "error",
     "traceback": [
      "\u001b[0;31m---------------------------------------------------------------------------\u001b[0m",
      "\u001b[0;31mAssertionError\u001b[0m                            Traceback (most recent call last)",
      "Cell \u001b[0;32mIn[10], line 3\u001b[0m\n\u001b[1;32m      1\u001b[0m \u001b[39mimport\u001b[39;00m \u001b[39mgradio\u001b[39;00m \u001b[39mas\u001b[39;00m \u001b[39mgr\u001b[39;00m\n\u001b[0;32m----> 3\u001b[0m iface \u001b[39m=\u001b[39m gr\u001b[39m.\u001b[39;49mInterface\u001b[39m.\u001b[39;49mload(\u001b[39m\"\u001b[39;49m\u001b[39mHelsinki-NLP/opus-mt-en-zh\u001b[39;49m\u001b[39m\"\u001b[39;49m,\n\u001b[1;32m      4\u001b[0m                           examples\u001b[39m=\u001b[39;49m[[\u001b[39m\"\u001b[39;49m\u001b[39mThat is a nice word, posstive word.\u001b[39;49m\u001b[39m\"\u001b[39;49m]]\n\u001b[1;32m      5\u001b[0m                           )\n\u001b[1;32m      7\u001b[0m iface\u001b[39m.\u001b[39mlaunch()\n",
      "File \u001b[0;32m~/Documents/git/ai/.venv/lib/python3.11/site-packages/gradio/interface.py:99\u001b[0m, in \u001b[0;36mInterface.load\u001b[0;34m(cls, name, src, api_key, alias, **kwargs)\u001b[0m\n\u001b[1;32m     72\u001b[0m \u001b[39m@classmethod\u001b[39m\n\u001b[1;32m     73\u001b[0m \u001b[39mdef\u001b[39;00m \u001b[39mload\u001b[39m(\n\u001b[1;32m     74\u001b[0m     \u001b[39mcls\u001b[39m,\n\u001b[0;32m   (...)\u001b[0m\n\u001b[1;32m     79\u001b[0m     \u001b[39m*\u001b[39m\u001b[39m*\u001b[39mkwargs,\n\u001b[1;32m     80\u001b[0m ) \u001b[39m-\u001b[39m\u001b[39m>\u001b[39m Interface:\n\u001b[1;32m     81\u001b[0m \u001b[39m    \u001b[39m\u001b[39m\"\"\"\u001b[39;00m\n\u001b[1;32m     82\u001b[0m \u001b[39m    Class method that constructs an Interface from a Hugging Face repo. Can accept\u001b[39;00m\n\u001b[1;32m     83\u001b[0m \u001b[39m    model repos (if src is \"models\") or Space repos (if src is \"spaces\"). The input\u001b[39;00m\n\u001b[0;32m   (...)\u001b[0m\n\u001b[1;32m     97\u001b[0m \u001b[39m        demo.launch()\u001b[39;00m\n\u001b[1;32m     98\u001b[0m \u001b[39m    \"\"\"\u001b[39;00m\n\u001b[0;32m---> 99\u001b[0m     \u001b[39mreturn\u001b[39;00m \u001b[39msuper\u001b[39;49m()\u001b[39m.\u001b[39;49mload(name\u001b[39m=\u001b[39;49mname, src\u001b[39m=\u001b[39;49msrc, api_key\u001b[39m=\u001b[39;49mapi_key, alias\u001b[39m=\u001b[39;49malias, \u001b[39m*\u001b[39;49m\u001b[39m*\u001b[39;49mkwargs)\n",
      "File \u001b[0;32m~/Documents/git/ai/.venv/lib/python3.11/site-packages/gradio/blocks.py:1228\u001b[0m, in \u001b[0;36mBlocks.load\u001b[0;34m(self_or_cls, fn, inputs, outputs, api_name, scroll_to_output, show_progress, queue, batch, max_batch_size, preprocess, postprocess, every, _js, name, src, api_key, alias, **kwargs)\u001b[0m\n\u001b[1;32m   1224\u001b[0m     \u001b[39mif\u001b[39;00m name \u001b[39mis\u001b[39;00m \u001b[39mNone\u001b[39;00m:\n\u001b[1;32m   1225\u001b[0m         \u001b[39mraise\u001b[39;00m \u001b[39mValueError\u001b[39;00m(\n\u001b[1;32m   1226\u001b[0m             \u001b[39m\"\u001b[39m\u001b[39mBlocks.load() requires passing parameters as keyword arguments\u001b[39m\u001b[39m\"\u001b[39m\n\u001b[1;32m   1227\u001b[0m         )\n\u001b[0;32m-> 1228\u001b[0m     \u001b[39mreturn\u001b[39;00m external\u001b[39m.\u001b[39;49mload_blocks_from_repo(name, src, api_key, alias, \u001b[39m*\u001b[39;49m\u001b[39m*\u001b[39;49mkwargs)\n\u001b[1;32m   1229\u001b[0m \u001b[39melse\u001b[39;00m:\n\u001b[1;32m   1230\u001b[0m     \u001b[39mreturn\u001b[39;00m self_or_cls\u001b[39m.\u001b[39mset_event_trigger(\n\u001b[1;32m   1231\u001b[0m         event_name\u001b[39m=\u001b[39m\u001b[39m\"\u001b[39m\u001b[39mload\u001b[39m\u001b[39m\"\u001b[39m,\n\u001b[1;32m   1232\u001b[0m         fn\u001b[39m=\u001b[39mfn,\n\u001b[0;32m   (...)\u001b[0m\n\u001b[1;32m   1245\u001b[0m         no_target\u001b[39m=\u001b[39m\u001b[39mTrue\u001b[39;00m,\n\u001b[1;32m   1246\u001b[0m     )[\u001b[39m0\u001b[39m]\n",
      "File \u001b[0;32m~/Documents/git/ai/.venv/lib/python3.11/site-packages/gradio/external.py:59\u001b[0m, in \u001b[0;36mload_blocks_from_repo\u001b[0;34m(name, src, api_key, alias, **kwargs)\u001b[0m\n\u001b[1;32m     51\u001b[0m     name \u001b[39m=\u001b[39m \u001b[39m\"\u001b[39m\u001b[39m/\u001b[39m\u001b[39m\"\u001b[39m\u001b[39m.\u001b[39mjoin(tokens[\u001b[39m1\u001b[39m:])\n\u001b[1;32m     53\u001b[0m factory_methods: Dict[\u001b[39mstr\u001b[39m, Callable] \u001b[39m=\u001b[39m {\n\u001b[1;32m     54\u001b[0m     \u001b[39m# for each repo type, we have a method that returns the Interface given the model name & optionally an api_key\u001b[39;00m\n\u001b[1;32m     55\u001b[0m     \u001b[39m\"\u001b[39m\u001b[39mhuggingface\u001b[39m\u001b[39m\"\u001b[39m: from_model,\n\u001b[1;32m     56\u001b[0m     \u001b[39m\"\u001b[39m\u001b[39mmodels\u001b[39m\u001b[39m\"\u001b[39m: from_model,\n\u001b[1;32m     57\u001b[0m     \u001b[39m\"\u001b[39m\u001b[39mspaces\u001b[39m\u001b[39m\"\u001b[39m: from_spaces,\n\u001b[1;32m     58\u001b[0m }\n\u001b[0;32m---> 59\u001b[0m \u001b[39massert\u001b[39;00m src\u001b[39m.\u001b[39mlower() \u001b[39min\u001b[39;00m factory_methods, \u001b[39m\"\u001b[39m\u001b[39mparameter: src must be one of \u001b[39m\u001b[39m{}\u001b[39;00m\u001b[39m\"\u001b[39m\u001b[39m.\u001b[39mformat(\n\u001b[1;32m     60\u001b[0m     factory_methods\u001b[39m.\u001b[39mkeys()\n\u001b[1;32m     61\u001b[0m )\n\u001b[1;32m     63\u001b[0m \u001b[39mif\u001b[39;00m api_key \u001b[39mis\u001b[39;00m \u001b[39mnot\u001b[39;00m \u001b[39mNone\u001b[39;00m:\n\u001b[1;32m     64\u001b[0m     \u001b[39mif\u001b[39;00m Context\u001b[39m.\u001b[39maccess_token \u001b[39mis\u001b[39;00m \u001b[39mnot\u001b[39;00m \u001b[39mNone\u001b[39;00m \u001b[39mand\u001b[39;00m Context\u001b[39m.\u001b[39maccess_token \u001b[39m!=\u001b[39m api_key:\n",
      "\u001b[0;31mAssertionError\u001b[0m: parameter: src must be one of dict_keys(['huggingface', 'models', 'spaces'])"
     ]
    }
   ],
   "source": [
    "import gradio as gr\n",
    "\n",
    "iface = gr.Interface.load(\"huggingface/Helsinki-NLP/opus-mt-en-zh\",\n",
    "                          examples=[[\"That is a nice word, posstive word.\"]]\n",
    "                          )\n",
    "\n",
    "iface.launch()\n"
   ]
  }
 ],
 "metadata": {
  "kernelspec": {
   "display_name": ".venv",
   "language": "python",
   "name": "python3"
  },
  "language_info": {
   "codemirror_mode": {
    "name": "ipython",
    "version": 3
   },
   "file_extension": ".py",
   "mimetype": "text/x-python",
   "name": "python",
   "nbconvert_exporter": "python",
   "pygments_lexer": "ipython3",
   "version": "3.11.2"
  },
  "orig_nbformat": 4
 },
 "nbformat": 4,
 "nbformat_minor": 2
}
