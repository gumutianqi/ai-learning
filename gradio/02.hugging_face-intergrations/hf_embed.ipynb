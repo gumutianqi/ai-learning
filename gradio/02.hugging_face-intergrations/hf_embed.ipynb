{
 "cells": [
  {
   "attachments": {},
   "cell_type": "markdown",
   "metadata": {},
   "source": [
    "## "
   ]
  },
  {
   "cell_type": "code",
   "execution_count": 32,
   "metadata": {
    "vscode": {
     "languageId": "shellscript"
    }
   },
   "outputs": [],
   "source": [
    "## 安装依赖\n",
    "# -q 表示安静安装，不输出安装 Logging\n",
    "\n",
    "!pip install torch torchvision torchaudio transformers datasets tiktoken wandb tqdm flask -q\n",
    "!pip install \"transformers[sentencepiece]\" -q"
   ]
  },
  {
   "attachments": {},
   "cell_type": "markdown",
   "metadata": {},
   "source": [
    "## 测试 Tokenizer 分词器"
   ]
  },
  {
   "cell_type": "code",
   "execution_count": 2,
   "metadata": {},
   "outputs": [
    {
     "name": "stdout",
     "output_type": "stream",
     "text": [
      "['▁通过', '强大的', '▁', 'AI', '▁', '引擎', ',', '伴随着', '更', '强大的', '▁No', 'tion', ',', '运行', '得', '更快', ',', '写', '得', '更好', ',', '思考', '更加', '深远', '。', '</s>']\n",
      "['▁Access', '▁the', '▁limit', 'less', '▁power', '▁of', '▁AI', ',', '▁right', '▁inside', '▁No', 'tion', ',', '▁Work', '▁faster', ',', '▁Write', '▁better', ',', '▁Think', '▁bigger', '.', '</s>']\n"
     ]
    }
   ],
   "source": [
    "from transformers import AutoTokenizer\n",
    "\n",
    "## 加载分词器\n",
    "model_checkpoint = \"/Users/larrykoo/Documents/git/ai/opus-mt-zh-en\"\n",
    "tokenizer = AutoTokenizer.from_pretrained(model_checkpoint)\n",
    "\n",
    "## 编码文本\n",
    "zh_sentence = \"通过强大的 AI 引擎，伴随着更强大的 Notion，运行得更快，写得更好，思考更加深远。\"\n",
    "en_sentence = \"Access the limitless power of AI, right inside Notion, Work faster, Write better, Think bigger.\"\n",
    "\n",
    "inputs = tokenizer(zh_sentence)\n",
    "with tokenizer.as_target_tokenizer():\n",
    "    targets = tokenizer(en_sentence)\n",
    "\n",
    "##  打印分词结果\n",
    "print(tokenizer.convert_ids_to_tokens(inputs[\"input_ids\"]))\n",
    "print(tokenizer.convert_ids_to_tokens(targets[\"input_ids\"]))"
   ]
  },
  {
   "attachments": {},
   "cell_type": "markdown",
   "metadata": {},
   "source": [
    "## 测试 Model 加载使用"
   ]
  },
  {
   "cell_type": "code",
   "execution_count": 48,
   "metadata": {},
   "outputs": [
    {
     "name": "stdout",
     "output_type": "stream",
     "text": [
      " * Serving Flask app '__main__'\n",
      " * Debug mode: off\n"
     ]
    },
    {
     "name": "stderr",
     "output_type": "stream",
     "text": [
      "\u001b[31m\u001b[1mWARNING: This is a development server. Do not use it in a production deployment. Use a production WSGI server instead.\u001b[0m\n",
      " * Running on all addresses (0.0.0.0)\n",
      " * Running on http://127.0.0.1:8888\n",
      " * Running on http://172.16.2.113:8888\n",
      "\u001b[33mPress CTRL+C to quit\u001b[0m\n",
      "127.0.0.1 - - [23/Apr/2023 17:14:58] \"POST /transfer_en HTTP/1.1\" 200 -\n",
      "127.0.0.1 - - [23/Apr/2023 17:15:28] \"POST /transfer_zh HTTP/1.1\" 200 -\n"
     ]
    }
   ],
   "source": [
    "# -*- coding: utf-8 -*-\n",
    "from flask import request, jsonify\n",
    "from flask import Flask\n",
    "from transformers import pipeline\n",
    "\n",
    "model_zh_en = \"/Users/larrykoo/Documents/git/ai/opus-mt-zh-en\"\n",
    "model_en_zh = \"/Users/larrykoo/Documents/git/ai/opus-mt-en-zh\"\n",
    "zh2en = pipeline(\"translation\", model=model_zh_en)\n",
    "en2zh = pipeline(\"translation\", model=model_en_zh)\n",
    "\n",
    "## build a Flask HTTP-Server\n",
    "app = Flask(__name__)\n",
    "app.config[\"JSON_AS_ASCII\"] = False\n",
    "\n",
    "## 中文翻译成英文\n",
    "@app.route(\"/transfer_en\", methods=['POST'])\n",
    "def transfer_en():\n",
    "    doc = request.get_json()[\"text\"]\n",
    "    new_doc = zh2en(doc)\n",
    "\n",
    "    return_result = {\n",
    "        \"sourceText\": doc, \n",
    "        \"translated\": new_doc[0][\"translation_text\"]\n",
    "    }\n",
    "    return jsonify(return_result)\n",
    "\n",
    "## 英文翻译成中文\n",
    "@app.route(\"/transfer_zh\", methods=[ 'POST'])\n",
    "def transfer_zh():\n",
    "    doc = request.get_json()[\"text\"]\n",
    "    new_doc =  en2zh(doc)\n",
    "\n",
    "    return_result = {\n",
    "        \"sourceText\": doc,\n",
    "        \"translated\": new_doc[0][\"translation_text\"]\n",
    "    }\n",
    "    return jsonify(return_result)\n",
    "\n",
    "if __name__ == '__main__':\n",
    "    app.run(host=\"0.0.0.0\", port=8888, debug=False)\n",
    "\n"
   ]
  }
 ],
 "metadata": {
  "kernelspec": {
   "display_name": ".venv",
   "language": "python",
   "name": "python3"
  },
  "language_info": {
   "codemirror_mode": {
    "name": "ipython",
    "version": 3
   },
   "file_extension": ".py",
   "mimetype": "text/x-python",
   "name": "python",
   "nbconvert_exporter": "python",
   "pygments_lexer": "ipython3",
   "version": "3.11.3"
  },
  "orig_nbformat": 4
 },
 "nbformat": 4,
 "nbformat_minor": 2
}
